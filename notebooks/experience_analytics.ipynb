{
 "cells": [
  {
   "cell_type": "code",
   "execution_count": 1,
   "metadata": {},
   "outputs": [],
   "source": [
    "import os\n",
    "import sys\n",
    "from  dotenv import load_dotenv\n",
    "import psycopg2\n",
    "import pandas as pd \n",
    "from scipy.stats import zscore\n",
    "import matplotlib.pyplot as plt\n",
    "import seaborn as sns\n",
    "import numpy as np\n",
    "from sklearn.cluster import KMeans\n",
    "from sklearn.preprocessing import StandardScaler,MinMaxScaler"
   ]
  },
  {
   "cell_type": "code",
   "execution_count": 3,
   "metadata": {},
   "outputs": [],
   "source": [
    "load_dotenv()\n",
    "user = os.environ['user']\n",
    "password = os.environ['password']\n",
    "host = os.environ['host']\n",
    "port = os.environ['port']\n",
    "database = os.environ['database']"
   ]
  },
  {
   "cell_type": "code",
   "execution_count": 4,
   "metadata": {},
   "outputs": [],
   "source": [
    "def connect():\n",
    "    conn = None\n",
    "    try:\n",
    "        print('Connecting...')\n",
    "        conn = psycopg2.connect(\n",
    "            host = host,\n",
    "            database = database,\n",
    "            user = user,\n",
    "            password = password\n",
    "        )\n",
    "    except (Exception, psycopg2.DatabaseError) as error:\n",
    "        print(\"Error: %s\" % error)\n",
    "        sys.exit(1)\n",
    "\n",
    "    print(\"All good, Connection successfull!\")\n",
    "    return conn"
   ]
  },
  {
   "cell_type": "code",
   "execution_count": 5,
   "metadata": {},
   "outputs": [],
   "source": [
    "def sql_dataFrame(conn, query):\n",
    "    cursor = conn.cursor()\n",
    "    try:\n",
    "        cursor.execute(query)\n",
    "    except (Exception, psycopg2.DatabaseError) as error:\n",
    "        print(\"Error: %s\" % error)\n",
    "        cursor.close()\n",
    "        return 1\n",
    "    tuples_list = cursor.fetchall()\n",
    "\n",
    "    df = pd.DataFrame(tuples_list, columns=[col[0] for col in cursor.description])\n",
    "    cursor.close()\n",
    "    return df"
   ]
  },
  {
   "cell_type": "code",
   "execution_count": 6,
   "metadata": {},
   "outputs": [
    {
     "name": "stdout",
     "output_type": "stream",
     "text": [
      "Connecting...\n",
      "All good, Connection successfull!\n"
     ]
    }
   ],
   "source": [
    "query = \"\"\" SELECT * FROM public.xdr_data\"\"\"\n",
    "\n",
    "conn = connect()\n",
    "\n",
    "df = sql_dataFrame(conn, query)\n",
    "\n",
    "conn.close()"
   ]
  },
  {
   "cell_type": "code",
   "execution_count": 7,
   "metadata": {},
   "outputs": [
    {
     "data": {
      "text/html": [
       "<div>\n",
       "<style scoped>\n",
       "    .dataframe tbody tr th:only-of-type {\n",
       "        vertical-align: middle;\n",
       "    }\n",
       "\n",
       "    .dataframe tbody tr th {\n",
       "        vertical-align: top;\n",
       "    }\n",
       "\n",
       "    .dataframe thead th {\n",
       "        text-align: right;\n",
       "    }\n",
       "</style>\n",
       "<table border=\"1\" class=\"dataframe\">\n",
       "  <thead>\n",
       "    <tr style=\"text-align: right;\">\n",
       "      <th></th>\n",
       "      <th>Bearer Id</th>\n",
       "      <th>Start</th>\n",
       "      <th>Start ms</th>\n",
       "      <th>End</th>\n",
       "      <th>End ms</th>\n",
       "      <th>Dur. (ms)</th>\n",
       "      <th>IMSI</th>\n",
       "      <th>MSISDN/Number</th>\n",
       "      <th>IMEI</th>\n",
       "      <th>Last Location Name</th>\n",
       "      <th>...</th>\n",
       "      <th>Youtube DL (Bytes)</th>\n",
       "      <th>Youtube UL (Bytes)</th>\n",
       "      <th>Netflix DL (Bytes)</th>\n",
       "      <th>Netflix UL (Bytes)</th>\n",
       "      <th>Gaming DL (Bytes)</th>\n",
       "      <th>Gaming UL (Bytes)</th>\n",
       "      <th>Other DL (Bytes)</th>\n",
       "      <th>Other UL (Bytes)</th>\n",
       "      <th>Total UL (Bytes)</th>\n",
       "      <th>Total DL (Bytes)</th>\n",
       "    </tr>\n",
       "  </thead>\n",
       "  <tbody>\n",
       "    <tr>\n",
       "      <th>0</th>\n",
       "      <td>1.311448e+19</td>\n",
       "      <td>4/4/2019 12:01</td>\n",
       "      <td>770.0</td>\n",
       "      <td>4/25/2019 14:35</td>\n",
       "      <td>662.0</td>\n",
       "      <td>1823652.0</td>\n",
       "      <td>2.082014e+14</td>\n",
       "      <td>3.366496e+10</td>\n",
       "      <td>3.552121e+13</td>\n",
       "      <td>9.16456699548519E+015</td>\n",
       "      <td>...</td>\n",
       "      <td>15854611.0</td>\n",
       "      <td>2501332.0</td>\n",
       "      <td>8198936.0</td>\n",
       "      <td>9656251.0</td>\n",
       "      <td>278082303.0</td>\n",
       "      <td>14344150.0</td>\n",
       "      <td>171744450.0</td>\n",
       "      <td>8814393.0</td>\n",
       "      <td>36749741.0</td>\n",
       "      <td>308879636.0</td>\n",
       "    </tr>\n",
       "    <tr>\n",
       "      <th>1</th>\n",
       "      <td>1.311448e+19</td>\n",
       "      <td>4/9/2019 13:04</td>\n",
       "      <td>235.0</td>\n",
       "      <td>4/25/2019 8:15</td>\n",
       "      <td>606.0</td>\n",
       "      <td>1365104.0</td>\n",
       "      <td>2.082019e+14</td>\n",
       "      <td>3.368185e+10</td>\n",
       "      <td>3.579401e+13</td>\n",
       "      <td>L77566A</td>\n",
       "      <td>...</td>\n",
       "      <td>20247395.0</td>\n",
       "      <td>19111729.0</td>\n",
       "      <td>18338413.0</td>\n",
       "      <td>17227132.0</td>\n",
       "      <td>608750074.0</td>\n",
       "      <td>1170709.0</td>\n",
       "      <td>526904238.0</td>\n",
       "      <td>15055145.0</td>\n",
       "      <td>53800391.0</td>\n",
       "      <td>653384965.0</td>\n",
       "    </tr>\n",
       "    <tr>\n",
       "      <th>2</th>\n",
       "      <td>1.311448e+19</td>\n",
       "      <td>4/9/2019 17:42</td>\n",
       "      <td>1.0</td>\n",
       "      <td>4/25/2019 11:58</td>\n",
       "      <td>652.0</td>\n",
       "      <td>1361762.0</td>\n",
       "      <td>2.082003e+14</td>\n",
       "      <td>3.376063e+10</td>\n",
       "      <td>3.528151e+13</td>\n",
       "      <td>D42335A</td>\n",
       "      <td>...</td>\n",
       "      <td>19725661.0</td>\n",
       "      <td>14699576.0</td>\n",
       "      <td>17587794.0</td>\n",
       "      <td>6163408.0</td>\n",
       "      <td>229584621.0</td>\n",
       "      <td>395630.0</td>\n",
       "      <td>410692588.0</td>\n",
       "      <td>4215763.0</td>\n",
       "      <td>27883638.0</td>\n",
       "      <td>279807335.0</td>\n",
       "    </tr>\n",
       "    <tr>\n",
       "      <th>3</th>\n",
       "      <td>1.311448e+19</td>\n",
       "      <td>4/10/2019 0:31</td>\n",
       "      <td>486.0</td>\n",
       "      <td>4/25/2019 7:36</td>\n",
       "      <td>171.0</td>\n",
       "      <td>1321509.0</td>\n",
       "      <td>2.082014e+14</td>\n",
       "      <td>3.375034e+10</td>\n",
       "      <td>3.535661e+13</td>\n",
       "      <td>T21824A</td>\n",
       "      <td>...</td>\n",
       "      <td>21388122.0</td>\n",
       "      <td>15146643.0</td>\n",
       "      <td>13994646.0</td>\n",
       "      <td>1097942.0</td>\n",
       "      <td>799538153.0</td>\n",
       "      <td>10849722.0</td>\n",
       "      <td>749039933.0</td>\n",
       "      <td>12797283.0</td>\n",
       "      <td>43324218.0</td>\n",
       "      <td>846028530.0</td>\n",
       "    </tr>\n",
       "    <tr>\n",
       "      <th>4</th>\n",
       "      <td>1.311448e+19</td>\n",
       "      <td>4/12/2019 20:10</td>\n",
       "      <td>565.0</td>\n",
       "      <td>4/25/2019 10:40</td>\n",
       "      <td>954.0</td>\n",
       "      <td>1089009.0</td>\n",
       "      <td>2.082014e+14</td>\n",
       "      <td>3.369980e+10</td>\n",
       "      <td>3.540701e+13</td>\n",
       "      <td>D88865A</td>\n",
       "      <td>...</td>\n",
       "      <td>15259380.0</td>\n",
       "      <td>18962873.0</td>\n",
       "      <td>17124581.0</td>\n",
       "      <td>415218.0</td>\n",
       "      <td>527707248.0</td>\n",
       "      <td>3529801.0</td>\n",
       "      <td>550709500.0</td>\n",
       "      <td>13910322.0</td>\n",
       "      <td>38542814.0</td>\n",
       "      <td>569138589.0</td>\n",
       "    </tr>\n",
       "  </tbody>\n",
       "</table>\n",
       "<p>5 rows × 55 columns</p>\n",
       "</div>"
      ],
      "text/plain": [
       "      Bearer Id            Start  Start ms              End  End ms  \\\n",
       "0  1.311448e+19   4/4/2019 12:01     770.0  4/25/2019 14:35   662.0   \n",
       "1  1.311448e+19   4/9/2019 13:04     235.0   4/25/2019 8:15   606.0   \n",
       "2  1.311448e+19   4/9/2019 17:42       1.0  4/25/2019 11:58   652.0   \n",
       "3  1.311448e+19   4/10/2019 0:31     486.0   4/25/2019 7:36   171.0   \n",
       "4  1.311448e+19  4/12/2019 20:10     565.0  4/25/2019 10:40   954.0   \n",
       "\n",
       "   Dur. (ms)          IMSI  MSISDN/Number          IMEI  \\\n",
       "0  1823652.0  2.082014e+14   3.366496e+10  3.552121e+13   \n",
       "1  1365104.0  2.082019e+14   3.368185e+10  3.579401e+13   \n",
       "2  1361762.0  2.082003e+14   3.376063e+10  3.528151e+13   \n",
       "3  1321509.0  2.082014e+14   3.375034e+10  3.535661e+13   \n",
       "4  1089009.0  2.082014e+14   3.369980e+10  3.540701e+13   \n",
       "\n",
       "      Last Location Name  ...  Youtube DL (Bytes)  Youtube UL (Bytes)  \\\n",
       "0  9.16456699548519E+015  ...          15854611.0           2501332.0   \n",
       "1                L77566A  ...          20247395.0          19111729.0   \n",
       "2                D42335A  ...          19725661.0          14699576.0   \n",
       "3                T21824A  ...          21388122.0          15146643.0   \n",
       "4                D88865A  ...          15259380.0          18962873.0   \n",
       "\n",
       "   Netflix DL (Bytes)  Netflix UL (Bytes)  Gaming DL (Bytes)  \\\n",
       "0           8198936.0           9656251.0        278082303.0   \n",
       "1          18338413.0          17227132.0        608750074.0   \n",
       "2          17587794.0           6163408.0        229584621.0   \n",
       "3          13994646.0           1097942.0        799538153.0   \n",
       "4          17124581.0            415218.0        527707248.0   \n",
       "\n",
       "   Gaming UL (Bytes)  Other DL (Bytes)  Other UL (Bytes)  Total UL (Bytes)  \\\n",
       "0         14344150.0       171744450.0         8814393.0        36749741.0   \n",
       "1          1170709.0       526904238.0        15055145.0        53800391.0   \n",
       "2           395630.0       410692588.0         4215763.0        27883638.0   \n",
       "3         10849722.0       749039933.0        12797283.0        43324218.0   \n",
       "4          3529801.0       550709500.0        13910322.0        38542814.0   \n",
       "\n",
       "   Total DL (Bytes)  \n",
       "0       308879636.0  \n",
       "1       653384965.0  \n",
       "2       279807335.0  \n",
       "3       846028530.0  \n",
       "4       569138589.0  \n",
       "\n",
       "[5 rows x 55 columns]"
      ]
     },
     "execution_count": 7,
     "metadata": {},
     "output_type": "execute_result"
    }
   ],
   "source": [
    "df.head()"
   ]
  },
  {
   "cell_type": "code",
   "execution_count": 8,
   "metadata": {},
   "outputs": [],
   "source": [
    "\n",
    "import warnings\n",
    "warnings.filterwarnings('ignore')"
   ]
  },
  {
   "cell_type": "code",
   "execution_count": 2,
   "metadata": {},
   "outputs": [],
   "source": [
    "def replace_outliers_with_mean(column):\n",
    "    \n",
    "    mean = column.mean()\n",
    "    std = column.std()\n",
    "    column[np.abs(column - mean) > 3 * std] = mean"
   ]
  },
  {
   "cell_type": "code",
   "execution_count": null,
   "metadata": {},
   "outputs": [],
   "source": [
    "replace_outliers_with_mean(df['avg_tcp_retransmission'])\n",
    "replace_outliers_with_mean(df['avg_rtt'])\n",
    "replace_outliers_with_mean(df['avg_throughput'])"
   ]
  },
  {
   "cell_type": "code",
   "execution_count": null,
   "metadata": {},
   "outputs": [
    {
     "data": {
      "text/html": [
       "<div>\n",
       "<style scoped>\n",
       "    .dataframe tbody tr th:only-of-type {\n",
       "        vertical-align: middle;\n",
       "    }\n",
       "\n",
       "    .dataframe tbody tr th {\n",
       "        vertical-align: top;\n",
       "    }\n",
       "\n",
       "    .dataframe thead th {\n",
       "        text-align: right;\n",
       "    }\n",
       "</style>\n",
       "<table border=\"1\" class=\"dataframe\">\n",
       "  <thead>\n",
       "    <tr style=\"text-align: right;\">\n",
       "      <th></th>\n",
       "      <th>avg_tcp_retransmission</th>\n",
       "      <th>avg_rtt</th>\n",
       "      <th>Handset Type</th>\n",
       "      <th>avg_throughput</th>\n",
       "    </tr>\n",
       "    <tr>\n",
       "      <th>MSISDN/Number</th>\n",
       "      <th></th>\n",
       "      <th></th>\n",
       "      <th></th>\n",
       "      <th></th>\n",
       "    </tr>\n",
       "  </thead>\n",
       "  <tbody>\n",
       "    <tr>\n",
       "      <th>3.360100e+10</th>\n",
       "      <td>1.285848e+07</td>\n",
       "      <td>23.000000</td>\n",
       "      <td>Huawei P20 Lite Huawei Nova 3E</td>\n",
       "      <td>38.0</td>\n",
       "    </tr>\n",
       "    <tr>\n",
       "      <th>3.360100e+10</th>\n",
       "      <td>1.285848e+07</td>\n",
       "      <td>15.500000</td>\n",
       "      <td>Apple iPhone 7 (A1778)</td>\n",
       "      <td>49.5</td>\n",
       "    </tr>\n",
       "    <tr>\n",
       "      <th>3.360100e+10</th>\n",
       "      <td>1.285848e+07</td>\n",
       "      <td>63.512443</td>\n",
       "      <td>undefined</td>\n",
       "      <td>48.5</td>\n",
       "    </tr>\n",
       "    <tr>\n",
       "      <th>3.360101e+10</th>\n",
       "      <td>1.285848e+07</td>\n",
       "      <td>42.000000</td>\n",
       "      <td>Apple iPhone 5S (A1457)</td>\n",
       "      <td>124.0</td>\n",
       "    </tr>\n",
       "    <tr>\n",
       "      <th>3.360101e+10</th>\n",
       "      <td>8.771950e+06</td>\n",
       "      <td>29.750000</td>\n",
       "      <td>Apple iPhone Se (A1723)</td>\n",
       "      <td>14211.0</td>\n",
       "    </tr>\n",
       "    <tr>\n",
       "      <th>...</th>\n",
       "      <td>...</td>\n",
       "      <td>...</td>\n",
       "      <td>...</td>\n",
       "      <td>...</td>\n",
       "    </tr>\n",
       "    <tr>\n",
       "      <th>3.379000e+10</th>\n",
       "      <td>1.090225e+05</td>\n",
       "      <td>26.000000</td>\n",
       "      <td>Huawei Honor 9 Lite</td>\n",
       "      <td>5182.5</td>\n",
       "    </tr>\n",
       "    <tr>\n",
       "      <th>3.379000e+10</th>\n",
       "      <td>1.285848e+07</td>\n",
       "      <td>20.000000</td>\n",
       "      <td>Apple iPhone 8 Plus (A1897)</td>\n",
       "      <td>58.0</td>\n",
       "    </tr>\n",
       "    <tr>\n",
       "      <th>3.197021e+12</th>\n",
       "      <td>1.285848e+07</td>\n",
       "      <td>63.512443</td>\n",
       "      <td>Quectel Wireless. Quectel Ec25-E</td>\n",
       "      <td>0.5</td>\n",
       "    </tr>\n",
       "    <tr>\n",
       "      <th>3.370000e+14</th>\n",
       "      <td>1.285848e+07</td>\n",
       "      <td>63.512443</td>\n",
       "      <td>Huawei B525S-23A</td>\n",
       "      <td>16.5</td>\n",
       "    </tr>\n",
       "    <tr>\n",
       "      <th>8.823971e+14</th>\n",
       "      <td>1.285848e+07</td>\n",
       "      <td>63.512443</td>\n",
       "      <td>Quectel Wireless. Quectel Ec21-E</td>\n",
       "      <td>1.0</td>\n",
       "    </tr>\n",
       "  </tbody>\n",
       "</table>\n",
       "<p>106856 rows × 4 columns</p>\n",
       "</div>"
      ],
      "text/plain": [
       "               avg_tcp_retransmission    avg_rtt  \\\n",
       "MSISDN/Number                                      \n",
       "3.360100e+10             1.285848e+07  23.000000   \n",
       "3.360100e+10             1.285848e+07  15.500000   \n",
       "3.360100e+10             1.285848e+07  63.512443   \n",
       "3.360101e+10             1.285848e+07  42.000000   \n",
       "3.360101e+10             8.771950e+06  29.750000   \n",
       "...                               ...        ...   \n",
       "3.379000e+10             1.090225e+05  26.000000   \n",
       "3.379000e+10             1.285848e+07  20.000000   \n",
       "3.197021e+12             1.285848e+07  63.512443   \n",
       "3.370000e+14             1.285848e+07  63.512443   \n",
       "8.823971e+14             1.285848e+07  63.512443   \n",
       "\n",
       "                                   Handset Type  avg_throughput  \n",
       "MSISDN/Number                                                    \n",
       "3.360100e+10     Huawei P20 Lite Huawei Nova 3E            38.0  \n",
       "3.360100e+10             Apple iPhone 7 (A1778)            49.5  \n",
       "3.360100e+10                          undefined            48.5  \n",
       "3.360101e+10            Apple iPhone 5S (A1457)           124.0  \n",
       "3.360101e+10            Apple iPhone Se (A1723)         14211.0  \n",
       "...                                         ...             ...  \n",
       "3.379000e+10                Huawei Honor 9 Lite          5182.5  \n",
       "3.379000e+10        Apple iPhone 8 Plus (A1897)            58.0  \n",
       "3.197021e+12   Quectel Wireless. Quectel Ec25-E             0.5  \n",
       "3.370000e+14                   Huawei B525S-23A            16.5  \n",
       "8.823971e+14   Quectel Wireless. Quectel Ec21-E             1.0  \n",
       "\n",
       "[106856 rows x 4 columns]"
      ]
     },
     "execution_count": 81,
     "metadata": {},
     "output_type": "execute_result"
    }
   ],
   "source": [
    "grouped_df = df.groupby('MSISDN/Number').agg({\n",
    "    'avg_tcp_retransmission': 'mean',\n",
    "    'avg_rtt': 'mean',\n",
    "    'Handset Type': lambda x: x.mode()[0],\n",
    "    'avg_throughput': 'mean'\n",
    "})\n",
    "\n",
    "grouped_df"
   ]
  },
  {
   "cell_type": "code",
   "execution_count": null,
   "metadata": {},
   "outputs": [
    {
     "data": {
      "text/plain": [
       "0        NaN\n",
       "1        NaN\n",
       "2        NaN\n",
       "3        NaN\n",
       "4        NaN\n",
       "          ..\n",
       "149996   NaN\n",
       "149997   NaN\n",
       "149998   NaN\n",
       "149999   NaN\n",
       "150000   NaN\n",
       "Name: avg_tcp_retransmission, Length: 150001, dtype: float64"
      ]
     },
     "execution_count": 82,
     "metadata": {},
     "output_type": "execute_result"
    }
   ],
   "source": [
    "df['avg_tcp_retransmission'] = (df['TCP DL Retrans. Vol (Bytes)'] + df['TCP UL Retrans. Vol (Bytes)']) / 2\n",
    "df['avg_tcp_retransmission']"
   ]
  },
  {
   "cell_type": "code",
   "execution_count": null,
   "metadata": {},
   "outputs": [
    {
     "data": {
      "text/plain": [
       "99530"
      ]
     },
     "execution_count": 83,
     "metadata": {},
     "output_type": "execute_result"
    }
   ],
   "source": [
    "df['avg_tcp_retransmission'].isnull().sum()"
   ]
  },
  {
   "cell_type": "code",
   "execution_count": null,
   "metadata": {},
   "outputs": [],
   "source": [
    "df['avg_tcp_retransmission'].fillna(df['avg_tcp_retransmission'].mean(), inplace=True)"
   ]
  },
  {
   "cell_type": "code",
   "execution_count": null,
   "metadata": {},
   "outputs": [
    {
     "data": {
      "text/plain": [
       "0"
      ]
     },
     "execution_count": 85,
     "metadata": {},
     "output_type": "execute_result"
    }
   ],
   "source": [
    "df['avg_tcp_retransmission'].isnull().sum()"
   ]
  },
  {
   "cell_type": "code",
   "execution_count": null,
   "metadata": {},
   "outputs": [
    {
     "data": {
      "text/plain": [
       "0         23.5\n",
       "1         35.0\n",
       "2          NaN\n",
       "3          NaN\n",
       "4          NaN\n",
       "          ... \n",
       "149996    16.0\n",
       "149997    14.5\n",
       "149998    24.5\n",
       "149999    21.0\n",
       "150000     NaN\n",
       "Name: avg_rtt, Length: 150001, dtype: float64"
      ]
     },
     "execution_count": 87,
     "metadata": {},
     "output_type": "execute_result"
    }
   ],
   "source": [
    "df['avg_rtt'] = (df['Avg RTT DL (ms)'] + df['Avg RTT UL (ms)']) / 2\n",
    "df['avg_rtt']"
   ]
  },
  {
   "cell_type": "code",
   "execution_count": null,
   "metadata": {},
   "outputs": [
    {
     "data": {
      "text/plain": [
       "0         23.500000\n",
       "1         35.000000\n",
       "2         63.512443\n",
       "3         63.512443\n",
       "4         63.512443\n",
       "            ...    \n",
       "149996    16.000000\n",
       "149997    14.500000\n",
       "149998    24.500000\n",
       "149999    21.000000\n",
       "150000    63.512443\n",
       "Name: avg_rtt, Length: 150001, dtype: float64"
      ]
     },
     "execution_count": 88,
     "metadata": {},
     "output_type": "execute_result"
    }
   ],
   "source": [
    "df['avg_rtt'].fillna(df['avg_rtt'].mean(), inplace=True)\n",
    "df['avg_rtt']"
   ]
  },
  {
   "cell_type": "code",
   "execution_count": null,
   "metadata": {},
   "outputs": [
    {
     "data": {
      "text/html": [
       "<div>\n",
       "<style scoped>\n",
       "    .dataframe tbody tr th:only-of-type {\n",
       "        vertical-align: middle;\n",
       "    }\n",
       "\n",
       "    .dataframe tbody tr th {\n",
       "        vertical-align: top;\n",
       "    }\n",
       "\n",
       "    .dataframe thead th {\n",
       "        text-align: right;\n",
       "    }\n",
       "</style>\n",
       "<table border=\"1\" class=\"dataframe\">\n",
       "  <thead>\n",
       "    <tr style=\"text-align: right;\">\n",
       "      <th></th>\n",
       "      <th>Handset Type</th>\n",
       "    </tr>\n",
       "    <tr>\n",
       "      <th>MSISDN/Number</th>\n",
       "      <th></th>\n",
       "    </tr>\n",
       "  </thead>\n",
       "  <tbody>\n",
       "    <tr>\n",
       "      <th>3.360100e+10</th>\n",
       "      <td>Huawei P20 Lite Huawei Nova 3E</td>\n",
       "    </tr>\n",
       "    <tr>\n",
       "      <th>3.360100e+10</th>\n",
       "      <td>Apple iPhone 7 (A1778)</td>\n",
       "    </tr>\n",
       "    <tr>\n",
       "      <th>3.360100e+10</th>\n",
       "      <td>undefined</td>\n",
       "    </tr>\n",
       "    <tr>\n",
       "      <th>3.360101e+10</th>\n",
       "      <td>Apple iPhone 5S (A1457)</td>\n",
       "    </tr>\n",
       "    <tr>\n",
       "      <th>3.360101e+10</th>\n",
       "      <td>Apple iPhone Se (A1723)</td>\n",
       "    </tr>\n",
       "    <tr>\n",
       "      <th>...</th>\n",
       "      <td>...</td>\n",
       "    </tr>\n",
       "    <tr>\n",
       "      <th>3.379000e+10</th>\n",
       "      <td>Huawei Honor 9 Lite</td>\n",
       "    </tr>\n",
       "    <tr>\n",
       "      <th>3.379000e+10</th>\n",
       "      <td>Apple iPhone 8 Plus (A1897)</td>\n",
       "    </tr>\n",
       "    <tr>\n",
       "      <th>3.197021e+12</th>\n",
       "      <td>Quectel Wireless. Quectel Ec25-E</td>\n",
       "    </tr>\n",
       "    <tr>\n",
       "      <th>3.370000e+14</th>\n",
       "      <td>Huawei B525S-23A</td>\n",
       "    </tr>\n",
       "    <tr>\n",
       "      <th>8.823971e+14</th>\n",
       "      <td>Quectel Wireless. Quectel Ec21-E</td>\n",
       "    </tr>\n",
       "  </tbody>\n",
       "</table>\n",
       "<p>106856 rows × 1 columns</p>\n",
       "</div>"
      ],
      "text/plain": [
       "                                   Handset Type\n",
       "MSISDN/Number                                  \n",
       "3.360100e+10     Huawei P20 Lite Huawei Nova 3E\n",
       "3.360100e+10             Apple iPhone 7 (A1778)\n",
       "3.360100e+10                          undefined\n",
       "3.360101e+10            Apple iPhone 5S (A1457)\n",
       "3.360101e+10            Apple iPhone Se (A1723)\n",
       "...                                         ...\n",
       "3.379000e+10                Huawei Honor 9 Lite\n",
       "3.379000e+10        Apple iPhone 8 Plus (A1897)\n",
       "3.197021e+12   Quectel Wireless. Quectel Ec25-E\n",
       "3.370000e+14                   Huawei B525S-23A\n",
       "8.823971e+14   Quectel Wireless. Quectel Ec21-E\n",
       "\n",
       "[106856 rows x 1 columns]"
      ]
     },
     "execution_count": 89,
     "metadata": {},
     "output_type": "execute_result"
    }
   ],
   "source": [
    "handset_type = df.groupby('MSISDN/Number').agg({'Handset Type': lambda x: x.mode()[0]})\n",
    "\n",
    "handset_type"
   ]
  },
  {
   "cell_type": "code",
   "execution_count": null,
   "metadata": {},
   "outputs": [
    {
     "data": {
      "text/plain": [
       "0         33.5\n",
       "1         21.0\n",
       "2          7.5\n",
       "3         44.0\n",
       "4          7.5\n",
       "          ... \n",
       "149996    58.5\n",
       "149997    38.5\n",
       "149998    45.0\n",
       "149999    35.5\n",
       "150000     NaN\n",
       "Name: avg_throughput, Length: 150001, dtype: float64"
      ]
     },
     "execution_count": 90,
     "metadata": {},
     "output_type": "execute_result"
    }
   ],
   "source": [
    "df['avg_throughput'] = (df['Avg Bearer TP DL (kbps)'] + df['Avg Bearer TP UL (kbps)']) / 2\n",
    "df['avg_throughput']"
   ]
  },
  {
   "cell_type": "code",
   "execution_count": null,
   "metadata": {},
   "outputs": [
    {
     "data": {
      "text/plain": [
       "0           33.500000\n",
       "1           21.000000\n",
       "2            7.500000\n",
       "3           44.000000\n",
       "4            7.500000\n",
       "             ...     \n",
       "149996      58.500000\n",
       "149997      38.500000\n",
       "149998      45.000000\n",
       "149999      35.500000\n",
       "150000    7535.237287\n",
       "Name: avg_throughput, Length: 150001, dtype: float64"
      ]
     },
     "execution_count": 91,
     "metadata": {},
     "output_type": "execute_result"
    }
   ],
   "source": [
    "df['avg_throughput'].fillna(df['avg_throughput'].mean(), inplace=True)\n",
    "df['avg_throughput']"
   ]
  },
  {
   "cell_type": "code",
   "execution_count": null,
   "metadata": {},
   "outputs": [
    {
     "name": "stdout",
     "output_type": "stream",
     "text": [
      "top10_tcp 34645     2.172058e+09\n",
      "140813    2.150739e+09\n",
      "77979     2.147216e+09\n",
      "135678    2.145732e+09\n",
      "3782      2.144060e+09\n",
      "119684    2.137746e+09\n",
      "39637     2.134324e+09\n",
      "59016     2.130808e+09\n",
      "76990     2.130087e+09\n",
      "41209     2.127330e+09\n",
      "Name: avg_tcp_retransmission, dtype: float64\n",
      "bottom10_tcp 143594    43.0\n",
      "111113    48.5\n",
      "18432     53.0\n",
      "13157     54.0\n",
      "97070     56.5\n",
      "8816      64.0\n",
      "99959     64.5\n",
      "83227     67.0\n",
      "95966     67.0\n",
      "12866     71.5\n",
      "Name: avg_tcp_retransmission, dtype: float64\n",
      "most_frequent_tcp avg_tcp_retransmission\n",
      "1.285848e+07    99530\n",
      "1.330000e+03       29\n",
      "2.660000e+03       24\n",
      "3.325000e+03       20\n",
      "1.995000e+03       19\n",
      "3.990000e+03       14\n",
      "9.365000e+02       13\n",
      "1.324000e+03        9\n",
      "7.980000e+03        9\n",
      "5.320000e+03        8\n",
      "Name: count, dtype: int64\n"
     ]
    }
   ],
   "source": [
    "top10_tcp = df.nlargest(10, 'avg_tcp_retransmission')['avg_tcp_retransmission']\n",
    "bottom10_tcp = df.nsmallest(10, 'avg_tcp_retransmission')['avg_tcp_retransmission']\n",
    "most_frequent_tcp = df['avg_tcp_retransmission'].value_counts().head(10)\n",
    "\n",
    "print('top10_tcp',top10_tcp)\n",
    "print('bottom10_tcp',bottom10_tcp)\n",
    "print('most_frequent_tcp',most_frequent_tcp)"
   ]
  },
  {
   "cell_type": "code",
   "execution_count": null,
   "metadata": {},
   "outputs": [
    {
     "ename": "NameError",
     "evalue": "name 'df' is not defined",
     "output_type": "error",
     "traceback": [
      "\u001b[1;31m---------------------------------------------------------------------------\u001b[0m",
      "\u001b[1;31mNameError\u001b[0m                                 Traceback (most recent call last)",
      "Cell \u001b[1;32mIn[1], line 1\u001b[0m\n\u001b[1;32m----> 1\u001b[0m top10_rtt \u001b[38;5;241m=\u001b[39m \u001b[43mdf\u001b[49m\u001b[38;5;241m.\u001b[39mnlargest(\u001b[38;5;241m10\u001b[39m, \u001b[38;5;124m'\u001b[39m\u001b[38;5;124mavg_rtt\u001b[39m\u001b[38;5;124m'\u001b[39m)[\u001b[38;5;124m'\u001b[39m\u001b[38;5;124mavg_rtt\u001b[39m\u001b[38;5;124m'\u001b[39m]\n\u001b[0;32m      2\u001b[0m bottom10_rtt \u001b[38;5;241m=\u001b[39m df\u001b[38;5;241m.\u001b[39mnsmallest(\u001b[38;5;241m10\u001b[39m, \u001b[38;5;124m'\u001b[39m\u001b[38;5;124mavg_rtt\u001b[39m\u001b[38;5;124m'\u001b[39m)[\u001b[38;5;124m'\u001b[39m\u001b[38;5;124mavg_rtt\u001b[39m\u001b[38;5;124m'\u001b[39m]\n\u001b[0;32m      3\u001b[0m most_frequent_rtt \u001b[38;5;241m=\u001b[39m df[\u001b[38;5;124m'\u001b[39m\u001b[38;5;124mavg_rtt\u001b[39m\u001b[38;5;124m'\u001b[39m]\u001b[38;5;241m.\u001b[39mvalue_counts()\u001b[38;5;241m.\u001b[39mhead(\u001b[38;5;241m10\u001b[39m)\n",
      "\u001b[1;31mNameError\u001b[0m: name 'df' is not defined"
     ]
    }
   ],
   "source": [
    "top10_rtt = df.nlargest(10, 'avg_rtt')['avg_rtt']\n",
    "bottom10_rtt = df.nsmallest(10, 'avg_rtt')['avg_rtt']\n",
    "most_frequent_rtt = df['avg_rtt'].value_counts().head(10)\n",
    "\n",
    "print('top10_rtt :',top10_rtt)\n",
    "print('bottom10_rtt',bottom10_rtt)\n",
    "print('most_frequent_rtt',most_frequent_rtt)"
   ]
  },
  {
   "cell_type": "code",
   "execution_count": null,
   "metadata": {},
   "outputs": [
    {
     "name": "stdout",
     "output_type": "stream",
     "text": [
      "top10_throughput 120890    191131.0\n",
      "143670    156622.0\n",
      "141262    152149.5\n",
      "91313     150273.0\n",
      "116807    141965.5\n",
      "141458    140572.0\n",
      "149617    138576.0\n",
      "92193     138102.5\n",
      "116565    137026.0\n",
      "117791    134944.0\n",
      "Name: avg_throughput, dtype: float64\n",
      "bottom10_throughput 149     0.0\n",
      "364     0.0\n",
      "618     0.0\n",
      "756     0.0\n",
      "1818    0.0\n",
      "2489    0.0\n",
      "3935    0.0\n",
      "4166    0.0\n",
      "4853    0.0\n",
      "5821    0.0\n",
      "Name: avg_throughput, dtype: float64\n",
      "most_frequent_throughput avg_throughput\n",
      "31.5    3886\n",
      "7.5     3741\n",
      "48.5    1945\n",
      "45.0    1885\n",
      "49.0    1801\n",
      "48.0    1671\n",
      "49.5    1571\n",
      "44.5    1557\n",
      "45.5    1520\n",
      "46.5    1491\n",
      "Name: count, dtype: int64\n"
     ]
    }
   ],
   "source": [
    "top10_throughput = df.nlargest(10, 'avg_throughput')['avg_throughput']\n",
    "bottom10_throughput = df.nsmallest(10, 'avg_throughput')['avg_throughput']\n",
    "most_frequent_throughput = df['avg_throughput'].value_counts().head(10)\n",
    "\n",
    "print('top10_throughput',top10_throughput)\n",
    "print('bottom10_throughput',bottom10_throughput)\n",
    "print('most_frequent_throughput',most_frequent_throughput)"
   ]
  },
  {
   "cell_type": "code",
   "execution_count": null,
   "metadata": {},
   "outputs": [
    {
     "data": {
      "text/plain": [
       "Handset Type\n",
       "A-Link Telecom I. Cubot A5                                                             11755.000000\n",
       "A-Link Telecom I. Cubot Note Plus                                                       3349.500000\n",
       "A-Link Telecom I. Cubot Note S                                                          4468.500000\n",
       "A-Link Telecom I. Cubot Nova                                                           28108.500000\n",
       "A-Link Telecom I. Cubot Power                                                          34734.000000\n",
       "                                                                                           ...     \n",
       "Zte Zte Blade C2 Smartphone Android By Sfr Startrail 4 Zte Blade Flex T809 Zte T809       29.000000\n",
       "Zyxel Communicat. Lte7460                                                              30978.000000\n",
       "Zyxel Communicat. Sbg3600                                                              48675.500000\n",
       "Zyxel Communicat. Zyxel Wah7706                                                         1086.500000\n",
       "undefined                                                                               5030.306721\n",
       "Name: avg_throughput, Length: 1396, dtype: float64"
      ]
     },
     "execution_count": 95,
     "metadata": {},
     "output_type": "execute_result"
    }
   ],
   "source": [
    "throughput_per_handset = df.groupby('Handset Type')['avg_throughput'].mean()\n",
    "throughput_per_handset"
   ]
  },
  {
   "cell_type": "code",
   "execution_count": null,
   "metadata": {},
   "outputs": [
    {
     "data": {
      "text/plain": [
       "Handset Type\n",
       "Huawei B715S-23C               54497.115385\n",
       "New-Bund Technol. Mix 2        52605.500000\n",
       "Lg G6+                         50067.500000\n",
       "Zyxel Communicat. Sbg3600      48675.500000\n",
       "Huawei Y9 2019                 45869.500000\n",
       "Xiaomi Communica. M1902F1G     42806.833333\n",
       "Spa Condor Elect. Allure M2    42155.750000\n",
       "Ovvi-Cellphone T. Echo         39476.500000\n",
       "Huawei Pele                    39190.500000\n",
       "Spa Condor Elect. Plume L2     38264.500000\n",
       "Name: avg_throughput, dtype: float64"
      ]
     },
     "execution_count": 96,
     "metadata": {},
     "output_type": "execute_result"
    }
   ],
   "source": [
    "top10_throughput_per_handset=throughput_per_handset.nlargest(10)\n",
    "top10_throughput_per_handset"
   ]
  },
  {
   "cell_type": "code",
   "execution_count": null,
   "metadata": {},
   "outputs": [
    {
     "data": {
      "image/png": "[encoded data removed]",
      "text/plain": [
       "<Figure size 640x480 with 1 Axes>"
      ]
     },
     "metadata": {},
     "output_type": "display_data"
    }
   ],
   "source": [
    "top10_throughput_per_handset.plot(kind='bar',color ='green',ec ='black')\n",
    "\n",
    "plt.xlabel('Handset Type')\n",
    "plt.ylabel('Average Throughput')\n",
    "plt.title('Average Throughput by Handset Type')\n",
    "plt.show()"
   ]
  },
  {
   "cell_type": "code",
   "execution_count": null,
   "metadata": {},
   "outputs": [
    {
     "data": {
      "text/plain": [
       "Handset Type\n",
       "A-Link Telecom I. Cubot A5                                                             1.285848e+07\n",
       "A-Link Telecom I. Cubot Note Plus                                                      3.081065e+05\n",
       "A-Link Telecom I. Cubot Note S                                                         2.070587e+07\n",
       "A-Link Telecom I. Cubot Nova                                                           6.858500e+04\n",
       "A-Link Telecom I. Cubot Power                                                          4.020500e+03\n",
       "                                                                                           ...     \n",
       "Zte Zte Blade C2 Smartphone Android By Sfr Startrail 4 Zte Blade Flex T809 Zte T809    1.285848e+07\n",
       "Zyxel Communicat. Lte7460                                                              2.063827e+07\n",
       "Zyxel Communicat. Sbg3600                                                              2.674347e+07\n",
       "Zyxel Communicat. Zyxel Wah7706                                                        1.285848e+07\n",
       "undefined                                                                              1.050936e+07\n",
       "Name: avg_tcp_retransmission, Length: 1396, dtype: float64"
      ]
     },
     "execution_count": 99,
     "metadata": {},
     "output_type": "execute_result"
    }
   ],
   "source": [
    "tcp_per_handset = df.groupby('Handset Type')['avg_tcp_retransmission'].mean()\n",
    "tcp_per_handset "
   ]
  },
  {
   "cell_type": "code",
   "execution_count": null,
   "metadata": {},
   "outputs": [
    {
     "name": "stdout",
     "output_type": "stream",
     "text": [
      "Handset Type\n",
      "Huawei Bln-Al10                              1.645873e+08\n",
      "Asustek Asus Zenfone Selfie Zd551Kl          1.608292e+08\n",
      "Samsung Galaxy Tab S3 (Sm-T825)              1.038853e+08\n",
      "Huawei E5776S-32                             8.611504e+07\n",
      "Apple iPad Pro (A1652)                       6.917633e+07\n",
      "Samsung Galaxy J8 2018                       5.787917e+07\n",
      "Dynamic Tech Hol. D-Mobile I3 I5 I7 I8 I9    5.329110e+07\n",
      "Xiaomi Communica. Mi 6                       3.769354e+07\n",
      "Huawei E5573                                 3.493472e+07\n",
      "Huawei Y7 Prime 2018                         3.265211e+07\n",
      "Name: avg_tcp_retransmission, dtype: float64\n"
     ]
    }
   ],
   "source": [
    "top10_tcp_per_handset = tcp_per_handset.nlargest(10)\n",
    "print(top10_tcp_per_handset)"
   ]
  },
  {
   "cell_type": "code",
   "execution_count": null,
   "metadata": {},
   "outputs": [
    {
     "data": {
      "image/png": "[encoded data removed]",
      "text/plain": [
       "<Figure size 640x480 with 1 Axes>"
      ]
     },
     "metadata": {},
     "output_type": "display_data"
    }
   ],
   "source": [
    "top10_tcp_per_handset.plot(kind='bar',color ='orange',ec= 'green')\n",
    "\n",
    "\n",
    "plt.xlabel('Handset Type')\n",
    "plt.ylabel('Average TCP Retransmission')\n",
    "plt.title('Average TCP Retransmission by Handset Type')\n",
    "plt.show()"
   ]
  },
  {
   "cell_type": "code",
   "execution_count": null,
   "metadata": {},
   "outputs": [
    {
     "name": "stdout",
     "output_type": "stream",
     "text": [
      "Bearer Id                                      991\n",
      "Start                                            1\n",
      "Start ms                                         1\n",
      "End                                              1\n",
      "End ms                                           1\n",
      "Dur. (ms)                                        1\n",
      "IMSI                                           570\n",
      "MSISDN/Number                                 1066\n",
      "IMEI                                           572\n",
      "Last Location Name                            1153\n",
      "Avg RTT DL (ms)                              27829\n",
      "Avg RTT UL (ms)                              27812\n",
      "Avg Bearer TP DL (kbps)                          1\n",
      "Avg Bearer TP UL (kbps)                          1\n",
      "TCP DL Retrans. Vol (Bytes)                  88146\n",
      "TCP UL Retrans. Vol (Bytes)                  96649\n",
      "DL TP < 50 Kbps (%)                            754\n",
      "50 Kbps < DL TP < 250 Kbps (%)                 754\n",
      "250 Kbps < DL TP < 1 Mbps (%)                  754\n",
      "DL TP > 1 Mbps (%)                             754\n",
      "UL TP < 10 Kbps (%)                            792\n",
      "10 Kbps < UL TP < 50 Kbps (%)                  792\n",
      "50 Kbps < UL TP < 300 Kbps (%)                 792\n",
      "UL TP > 300 Kbps (%)                           792\n",
      "HTTP DL (Bytes)                              81474\n",
      "HTTP UL (Bytes)                              81810\n",
      "Activity Duration DL (ms)                        1\n",
      "Activity Duration UL (ms)                        1\n",
      "Dur. (ms).1                                      1\n",
      "Handset Manufacturer                           572\n",
      "Handset Type                                   572\n",
      "Nb of sec with 125000B < Vol DL              97538\n",
      "Nb of sec with 1250B < Vol UL < 6250B        92894\n",
      "Nb of sec with 31250B < Vol DL < 125000B     93586\n",
      "Nb of sec with 37500B < Vol UL              130254\n",
      "Nb of sec with 6250B < Vol DL < 31250B       88317\n",
      "Nb of sec with 6250B < Vol UL < 37500B      111843\n",
      "Nb of sec with Vol DL < 6250B                  755\n",
      "Nb of sec with Vol UL < 1250B                  793\n",
      "Social Media DL (Bytes)                          0\n",
      "Social Media UL (Bytes)                          0\n",
      "Google DL (Bytes)                                0\n",
      "Google UL (Bytes)                                0\n",
      "Email DL (Bytes)                                 0\n",
      "Email UL (Bytes)                                 0\n",
      "Youtube DL (Bytes)                               0\n",
      "Youtube UL (Bytes)                               0\n",
      "Netflix DL (Bytes)                               0\n",
      "Netflix UL (Bytes)                               0\n",
      "Gaming DL (Bytes)                                0\n",
      "Gaming UL (Bytes)                                0\n",
      "Other DL (Bytes)                                 0\n",
      "Other UL (Bytes)                                 0\n",
      "Total UL (Bytes)                                 1\n",
      "Total DL (Bytes)                                 1\n",
      "avg_tcp_retransmission                           0\n",
      "avg_rtt                                          0\n",
      "avg_throughput                                   0\n",
      "cluster                                          0\n",
      "dtype: int64\n"
     ]
    }
   ],
   "source": [
    "print(df.isna().sum())"
   ]
  },
  {
   "cell_type": "code",
   "execution_count": null,
   "metadata": {},
   "outputs": [
    {
     "data": {
      "text/html": [
       "<div>\n",
       "<style scoped>\n",
       "    .dataframe tbody tr th:only-of-type {\n",
       "        vertical-align: middle;\n",
       "    }\n",
       "\n",
       "    .dataframe tbody tr th {\n",
       "        vertical-align: top;\n",
       "    }\n",
       "\n",
       "    .dataframe thead th {\n",
       "        text-align: right;\n",
       "    }\n",
       "</style>\n",
       "<table border=\"1\" class=\"dataframe\">\n",
       "  <thead>\n",
       "    <tr style=\"text-align: right;\">\n",
       "      <th></th>\n",
       "      <th>Bearer Id</th>\n",
       "      <th>Start</th>\n",
       "      <th>Start ms</th>\n",
       "      <th>End</th>\n",
       "      <th>End ms</th>\n",
       "      <th>Dur. (ms)</th>\n",
       "      <th>IMSI</th>\n",
       "      <th>MSISDN/Number</th>\n",
       "      <th>IMEI</th>\n",
       "      <th>Last Location Name</th>\n",
       "      <th>...</th>\n",
       "      <th>Gaming DL (Bytes)</th>\n",
       "      <th>Gaming UL (Bytes)</th>\n",
       "      <th>Other DL (Bytes)</th>\n",
       "      <th>Other UL (Bytes)</th>\n",
       "      <th>Total UL (Bytes)</th>\n",
       "      <th>Total DL (Bytes)</th>\n",
       "      <th>avg_tcp_retransmission</th>\n",
       "      <th>avg_rtt</th>\n",
       "      <th>avg_throughput</th>\n",
       "      <th>cluster</th>\n",
       "    </tr>\n",
       "  </thead>\n",
       "  <tbody>\n",
       "    <tr>\n",
       "      <th>0</th>\n",
       "      <td>1.311448e+19</td>\n",
       "      <td>4/4/2019 12:01</td>\n",
       "      <td>770.0</td>\n",
       "      <td>4/25/2019 14:35</td>\n",
       "      <td>662.0</td>\n",
       "      <td>1823652.0</td>\n",
       "      <td>2.082014e+14</td>\n",
       "      <td>3.366496e+10</td>\n",
       "      <td>3.552121e+13</td>\n",
       "      <td>9.16456699548519E+015</td>\n",
       "      <td>...</td>\n",
       "      <td>278082303.0</td>\n",
       "      <td>14344150.0</td>\n",
       "      <td>171744450.0</td>\n",
       "      <td>8814393.0</td>\n",
       "      <td>36749741.0</td>\n",
       "      <td>308879636.0</td>\n",
       "      <td>1.285848e+07</td>\n",
       "      <td>23.500000</td>\n",
       "      <td>33.5</td>\n",
       "      <td>0</td>\n",
       "    </tr>\n",
       "    <tr>\n",
       "      <th>1</th>\n",
       "      <td>1.311448e+19</td>\n",
       "      <td>4/9/2019 13:04</td>\n",
       "      <td>235.0</td>\n",
       "      <td>4/25/2019 8:15</td>\n",
       "      <td>606.0</td>\n",
       "      <td>1365104.0</td>\n",
       "      <td>2.082019e+14</td>\n",
       "      <td>3.368185e+10</td>\n",
       "      <td>3.579401e+13</td>\n",
       "      <td>L77566A</td>\n",
       "      <td>...</td>\n",
       "      <td>608750074.0</td>\n",
       "      <td>1170709.0</td>\n",
       "      <td>526904238.0</td>\n",
       "      <td>15055145.0</td>\n",
       "      <td>53800391.0</td>\n",
       "      <td>653384965.0</td>\n",
       "      <td>1.285848e+07</td>\n",
       "      <td>35.000000</td>\n",
       "      <td>21.0</td>\n",
       "      <td>0</td>\n",
       "    </tr>\n",
       "    <tr>\n",
       "      <th>2</th>\n",
       "      <td>1.311448e+19</td>\n",
       "      <td>4/9/2019 17:42</td>\n",
       "      <td>1.0</td>\n",
       "      <td>4/25/2019 11:58</td>\n",
       "      <td>652.0</td>\n",
       "      <td>1361762.0</td>\n",
       "      <td>2.082003e+14</td>\n",
       "      <td>3.376063e+10</td>\n",
       "      <td>3.528151e+13</td>\n",
       "      <td>D42335A</td>\n",
       "      <td>...</td>\n",
       "      <td>229584621.0</td>\n",
       "      <td>395630.0</td>\n",
       "      <td>410692588.0</td>\n",
       "      <td>4215763.0</td>\n",
       "      <td>27883638.0</td>\n",
       "      <td>279807335.0</td>\n",
       "      <td>1.285848e+07</td>\n",
       "      <td>63.512443</td>\n",
       "      <td>7.5</td>\n",
       "      <td>0</td>\n",
       "    </tr>\n",
       "    <tr>\n",
       "      <th>3</th>\n",
       "      <td>1.311448e+19</td>\n",
       "      <td>4/10/2019 0:31</td>\n",
       "      <td>486.0</td>\n",
       "      <td>4/25/2019 7:36</td>\n",
       "      <td>171.0</td>\n",
       "      <td>1321509.0</td>\n",
       "      <td>2.082014e+14</td>\n",
       "      <td>3.375034e+10</td>\n",
       "      <td>3.535661e+13</td>\n",
       "      <td>T21824A</td>\n",
       "      <td>...</td>\n",
       "      <td>799538153.0</td>\n",
       "      <td>10849722.0</td>\n",
       "      <td>749039933.0</td>\n",
       "      <td>12797283.0</td>\n",
       "      <td>43324218.0</td>\n",
       "      <td>846028530.0</td>\n",
       "      <td>1.285848e+07</td>\n",
       "      <td>63.512443</td>\n",
       "      <td>44.0</td>\n",
       "      <td>0</td>\n",
       "    </tr>\n",
       "    <tr>\n",
       "      <th>4</th>\n",
       "      <td>1.311448e+19</td>\n",
       "      <td>4/12/2019 20:10</td>\n",
       "      <td>565.0</td>\n",
       "      <td>4/25/2019 10:40</td>\n",
       "      <td>954.0</td>\n",
       "      <td>1089009.0</td>\n",
       "      <td>2.082014e+14</td>\n",
       "      <td>3.369980e+10</td>\n",
       "      <td>3.540701e+13</td>\n",
       "      <td>D88865A</td>\n",
       "      <td>...</td>\n",
       "      <td>527707248.0</td>\n",
       "      <td>3529801.0</td>\n",
       "      <td>550709500.0</td>\n",
       "      <td>13910322.0</td>\n",
       "      <td>38542814.0</td>\n",
       "      <td>569138589.0</td>\n",
       "      <td>1.285848e+07</td>\n",
       "      <td>63.512443</td>\n",
       "      <td>7.5</td>\n",
       "      <td>0</td>\n",
       "    </tr>\n",
       "  </tbody>\n",
       "</table>\n",
       "<p>5 rows × 59 columns</p>\n",
       "</div>"
      ],
      "text/plain": [
       "      Bearer Id            Start  Start ms              End  End ms  \\\n",
       "0  1.311448e+19   4/4/2019 12:01     770.0  4/25/2019 14:35   662.0   \n",
       "1  1.311448e+19   4/9/2019 13:04     235.0   4/25/2019 8:15   606.0   \n",
       "2  1.311448e+19   4/9/2019 17:42       1.0  4/25/2019 11:58   652.0   \n",
       "3  1.311448e+19   4/10/2019 0:31     486.0   4/25/2019 7:36   171.0   \n",
       "4  1.311448e+19  4/12/2019 20:10     565.0  4/25/2019 10:40   954.0   \n",
       "\n",
       "   Dur. (ms)          IMSI  MSISDN/Number          IMEI  \\\n",
       "0  1823652.0  2.082014e+14   3.366496e+10  3.552121e+13   \n",
       "1  1365104.0  2.082019e+14   3.368185e+10  3.579401e+13   \n",
       "2  1361762.0  2.082003e+14   3.376063e+10  3.528151e+13   \n",
       "3  1321509.0  2.082014e+14   3.375034e+10  3.535661e+13   \n",
       "4  1089009.0  2.082014e+14   3.369980e+10  3.540701e+13   \n",
       "\n",
       "      Last Location Name  ...  Gaming DL (Bytes)  Gaming UL (Bytes)  \\\n",
       "0  9.16456699548519E+015  ...        278082303.0         14344150.0   \n",
       "1                L77566A  ...        608750074.0          1170709.0   \n",
       "2                D42335A  ...        229584621.0           395630.0   \n",
       "3                T21824A  ...        799538153.0         10849722.0   \n",
       "4                D88865A  ...        527707248.0          3529801.0   \n",
       "\n",
       "   Other DL (Bytes)  Other UL (Bytes)  Total UL (Bytes)  Total DL (Bytes)  \\\n",
       "0       171744450.0         8814393.0        36749741.0       308879636.0   \n",
       "1       526904238.0        15055145.0        53800391.0       653384965.0   \n",
       "2       410692588.0         4215763.0        27883638.0       279807335.0   \n",
       "3       749039933.0        12797283.0        43324218.0       846028530.0   \n",
       "4       550709500.0        13910322.0        38542814.0       569138589.0   \n",
       "\n",
       "   avg_tcp_retransmission    avg_rtt  avg_throughput  cluster  \n",
       "0            1.285848e+07  23.500000            33.5        0  \n",
       "1            1.285848e+07  35.000000            21.0        0  \n",
       "2            1.285848e+07  63.512443             7.5        0  \n",
       "3            1.285848e+07  63.512443            44.0        0  \n",
       "4            1.285848e+07  63.512443             7.5        0  \n",
       "\n",
       "[5 rows x 59 columns]"
      ]
     },
     "execution_count": 103,
     "metadata": {},
     "output_type": "execute_result"
    }
   ],
   "source": [
    "df.fillna(df[['avg_tcp_retransmission','avg_rtt','avg_throughput' ]].mean(), inplace=True)\n",
    "df.head(5)"
   ]
  },
  {
   "cell_type": "code",
   "execution_count": null,
   "metadata": {},
   "outputs": [
    {
     "ename": "NameError",
     "evalue": "name 'pd' is not defined",
     "output_type": "error",
     "traceback": [
      "\u001b[1;31m---------------------------------------------------------------------------\u001b[0m",
      "\u001b[1;31mNameError\u001b[0m                                 Traceback (most recent call last)",
      "Cell \u001b[1;32mIn[3], line 6\u001b[0m\n\u001b[0;32m      2\u001b[0m \u001b[38;5;28;01mfrom\u001b[39;00m \u001b[38;5;21;01msklearn\u001b[39;00m\u001b[38;5;21;01m.\u001b[39;00m\u001b[38;5;21;01mpreprocessing\u001b[39;00m \u001b[38;5;28;01mimport\u001b[39;00m StandardScaler,MinMaxScaler\n\u001b[0;32m      5\u001b[0m scaler \u001b[38;5;241m=\u001b[39m MinMaxScaler()\n\u001b[1;32m----> 6\u001b[0m normalized_df \u001b[38;5;241m=\u001b[39m \u001b[43mpd\u001b[49m\u001b[38;5;241m.\u001b[39mDataFrame(scaler\u001b[38;5;241m.\u001b[39mfit_transform(df[[\u001b[38;5;124m'\u001b[39m\u001b[38;5;124mavg_tcp_retransmission\u001b[39m\u001b[38;5;124m'\u001b[39m, \u001b[38;5;124m'\u001b[39m\u001b[38;5;124mavg_rtt\u001b[39m\u001b[38;5;124m'\u001b[39m, \u001b[38;5;124m'\u001b[39m\u001b[38;5;124mavg_throughput\u001b[39m\u001b[38;5;124m'\u001b[39m]]),      \n\u001b[0;32m      7\u001b[0m                              columns\u001b[38;5;241m=\u001b[39m[\u001b[38;5;124m'\u001b[39m\u001b[38;5;124mavg_tcp_retransmission\u001b[39m\u001b[38;5;124m'\u001b[39m, \u001b[38;5;124m'\u001b[39m\u001b[38;5;124mavg_rtt\u001b[39m\u001b[38;5;124m'\u001b[39m, \u001b[38;5;124m'\u001b[39m\u001b[38;5;124mavg_throughput\u001b[39m\u001b[38;5;124m'\u001b[39m], index\u001b[38;5;241m=\u001b[39mdf\u001b[38;5;241m.\u001b[39mindex)\n\u001b[0;32m      8\u001b[0m normalized_df\n",
      "\u001b[1;31mNameError\u001b[0m: name 'pd' is not defined"
     ]
    }
   ],
   "source": [
    "scaler = MinMaxScaler()\n",
    "normalized_df = pd.DataFrame(scaler.fit_transform(df[['avg_tcp_retransmission', 'avg_rtt', 'avg_throughput']]),      \n",
    "                             columns=['avg_tcp_retransmission', 'avg_rtt', 'avg_throughput'], index=df.index)\n",
    "normalized_df"
   ]
  },
  {
   "cell_type": "code",
   "execution_count": null,
   "metadata": {},
   "outputs": [
    {
     "ename": "NameError",
     "evalue": "name 'KMeans' is not defined",
     "output_type": "error",
     "traceback": [
      "\u001b[1;31m---------------------------------------------------------------------------\u001b[0m",
      "\u001b[1;31mNameError\u001b[0m                                 Traceback (most recent call last)",
      "Cell \u001b[1;32mIn[2], line 1\u001b[0m\n\u001b[1;32m----> 1\u001b[0m kmeans \u001b[38;5;241m=\u001b[39m \u001b[43mKMeans\u001b[49m(n_clusters\u001b[38;5;241m=\u001b[39m\u001b[38;5;241m3\u001b[39m)\n\u001b[0;32m      3\u001b[0m kmeans\u001b[38;5;241m.\u001b[39mfit(normalized_df)\n\u001b[0;32m      4\u001b[0m df[\u001b[38;5;124m'\u001b[39m\u001b[38;5;124mcluster\u001b[39m\u001b[38;5;124m'\u001b[39m] \u001b[38;5;241m=\u001b[39m kmeans\u001b[38;5;241m.\u001b[39mlabels_\n",
      "\u001b[1;31mNameError\u001b[0m: name 'KMeans' is not defined"
     ]
    }
   ],
   "source": [
    "kmeans = KMeans(n_clusters=3)\n",
    "\n",
    "kmeans.fit(normalized_df)\n",
    "df['cluster'] = kmeans.labels_\n",
    "df['cluster']"
   ]
  },
  {
   "cell_type": "code",
   "execution_count": null,
   "metadata": {},
   "outputs": [
    {
     "data": {
      "text/plain": [
       "array([0, 0, 0, ..., 0, 0, 0])"
      ]
     },
     "execution_count": 107,
     "metadata": {},
     "output_type": "execute_result"
    }
   ],
   "source": [
    "kmeans.labels_"
   ]
  },
  {
   "cell_type": "code",
   "execution_count": null,
   "metadata": {},
   "outputs": [
    {
     "name": "stdout",
     "output_type": "stream",
     "text": [
      "Cluster 0:\n",
      "  Size: 111672\n",
      "  Average TCP Retransmission: 11487086.851181101\n",
      "  Average RTT: 65.94723634799703\n",
      "  Average Throughput: 1052.5629812064499\n",
      "Cluster 1:\n",
      "  Size: 8310\n",
      "  Average TCP Retransmission: 46526325.709796414\n",
      "  Average RTT: 48.651385372153584\n",
      "  Average Throughput: 47955.50517448857\n",
      "Cluster 2:\n",
      "  Size: 30019\n",
      "  Average TCP Retransmission: 8640048.110163702\n",
      "  Average RTT: 58.5688101530153\n",
      "  Average Throughput: 20461.74312935141\n"
     ]
    }
   ],
   "source": [
    "for i in range(3):\n",
    "    cluster_df = df[df['cluster'] == i]\n",
    "    \n",
    "    print(f'Cluster {i}:')\n",
    "    print(f'  Size: {len(cluster_df)}')\n",
    "    print(f'  Average TCP Retransmission: {cluster_df[\"avg_tcp_retransmission\"].mean()}')\n",
    "    print(f'  Average RTT: {cluster_df[\"avg_rtt\"].mean()}')\n",
    "    print(f'  Average Throughput: {cluster_df[\"avg_throughput\"].mean()}')"
   ]
  },
  {
   "cell_type": "code",
   "execution_count": null,
   "metadata": {},
   "outputs": [
    {
     "data": {
      "image/png": "[encoded data removed]",
      "text/plain": [
       "<Figure size 640x480 with 1 Axes>"
      ]
     },
     "metadata": {},
     "output_type": "display_data"
    }
   ],
   "source": [
    "fig, ax = plt.subplots()\n",
    "\n",
    "colors = ['y', 'g', 'r']\n",
    "\n",
    "for i in range(3):\n",
    "    cluster_df = df[df['cluster'] == i]\n",
    "    x = cluster_df['avg_rtt']\n",
    "    y = cluster_df['avg_throughput']\n",
    "    ax.scatter(x, y, c=colors[i], label=f'Cluster {i}')\n",
    "\n",
    "ax.set_xlabel('Average RTT')\n",
    "ax.set_ylabel('Average Throughput')\n",
    "ax.legend()\n",
    "plt.show()"
   ]
  }
 ],
 "metadata": {
  "kernelspec": {
   "display_name": "myenv",
   "language": "python",
   "name": "python3"
  },
  "language_info": {
   "codemirror_mode": {
    "name": "ipython",
    "version": 3
   },
   "file_extension": ".py",
   "mimetype": "text/x-python",
   "name": "python",
   "nbconvert_exporter": "python",
   "pygments_lexer": "ipython3",
   "version": "3.10.3"
  }
 },
 "nbformat": 4,
 "nbformat_minor": 2
}
